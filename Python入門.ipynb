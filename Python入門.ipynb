{
 "cells": [
  {
   "cell_type": "markdown",
   "metadata": {},
   "source": [
    "# Python 入門\n",
    "\n",
    "淡江大學 文學院 110(2021)/11/18 (四) 10:00-12:00\n",
    "\n",
    "參考資料:\n",
    "* 政治大學數學系 蔡炎龍教授，少年Py的大冒險，全華，2020。"
   ]
  },
  {
   "cell_type": "markdown",
   "metadata": {},
   "source": [
    "## Python: 互動式程式語言\n",
    "\n",
    "\n",
    "* 特點: 簡單、易學、可以快速將我們的想法做出來\n",
    "\n",
    "\n",
    "* Python 猶如一台簡單計算機(器)\n",
    "\n",
    "\n",
    "* 變數: 不用事先宣告、直接使用(要給初始值)、可用中文名稱(因採用Unicode)\n",
    "\n",
    "\n",
    "* 資料型態: int(整數)、float(浮點數、實數)、str(字串)、bool(布林: True、False)\n",
    "\n",
    "\n",
    "* 算數運算子: +(加)、-(減)、* (乘)、/(除)、//(商數)、%(餘數)、** (指數)\n",
    "\n",
    "\n",
    "* 關係運算子: >(大於)、<(小於)、>=(大於等於)、<=(小於等於)、==(等於)、!=(不等於)\n",
    "\n",
    "\n",
    "* 邏輯運算子: and(且)、or(或)、not(非)\n",
    "\n",
    "\n",
    "* 資料結構: list(串列)、tuple(元組)、dict(字典)、set(集合)\n",
    "\n",
    "\n",
    "* 流程控制: if/elif/else(判斷)、for(迴圈)、while(迴圈)\n",
    "\n",
    "\n",
    "* 函數(function): def(自定函數)、內建函數\n",
    "\n",
    "\n",
    "* 套件(package): import 套件(函式庫)\n"
   ]
  },
  {
   "cell_type": "markdown",
   "metadata": {},
   "source": [
    "## (1) Python 計算機\n",
    "\n",
    "### 1.1 範例: 使用算術運算子(如四則運算 +, -, *, / 等)"
   ]
  },
  {
   "cell_type": "code",
   "execution_count": 1,
   "metadata": {},
   "outputs": [
    {
     "data": {
      "text/plain": [
       "5"
      ]
     },
     "execution_count": 1,
     "metadata": {},
     "output_type": "execute_result"
    }
   ],
   "source": [
    "3 + 2  # 加法"
   ]
  },
  {
   "cell_type": "code",
   "execution_count": 2,
   "metadata": {},
   "outputs": [
    {
     "data": {
      "text/plain": [
       "1"
      ]
     },
     "execution_count": 2,
     "metadata": {},
     "output_type": "execute_result"
    }
   ],
   "source": [
    "3 - 2  # 減法"
   ]
  },
  {
   "cell_type": "code",
   "execution_count": 3,
   "metadata": {},
   "outputs": [
    {
     "data": {
      "text/plain": [
       "6"
      ]
     },
     "execution_count": 3,
     "metadata": {},
     "output_type": "execute_result"
    }
   ],
   "source": [
    "3 * 2  # 乘法"
   ]
  },
  {
   "cell_type": "code",
   "execution_count": 4,
   "metadata": {},
   "outputs": [
    {
     "data": {
      "text/plain": [
       "1.5"
      ]
     },
     "execution_count": 4,
     "metadata": {},
     "output_type": "execute_result"
    }
   ],
   "source": [
    "3 / 2  # 除法"
   ]
  },
  {
   "cell_type": "markdown",
   "metadata": {},
   "source": [
    "### 1.2 還有更多"
   ]
  },
  {
   "cell_type": "code",
   "execution_count": 5,
   "metadata": {},
   "outputs": [
    {
     "data": {
      "text/plain": [
       "1"
      ]
     },
     "execution_count": 5,
     "metadata": {},
     "output_type": "execute_result"
    }
   ],
   "source": [
    "3 // 2  # 商數 (整數除法)"
   ]
  },
  {
   "cell_type": "code",
   "execution_count": 6,
   "metadata": {},
   "outputs": [
    {
     "data": {
      "text/plain": [
       "1"
      ]
     },
     "execution_count": 6,
     "metadata": {},
     "output_type": "execute_result"
    }
   ],
   "source": [
    "3 % 2  # 餘數"
   ]
  },
  {
   "cell_type": "code",
   "execution_count": 7,
   "metadata": {},
   "outputs": [
    {
     "data": {
      "text/plain": [
       "9"
      ]
     },
     "execution_count": 7,
     "metadata": {},
     "output_type": "execute_result"
    }
   ],
   "source": [
    "3 ** 2  # 指數 (2:平方)"
   ]
  },
  {
   "cell_type": "code",
   "execution_count": 8,
   "metadata": {},
   "outputs": [
    {
     "data": {
      "text/plain": [
       "73.4"
      ]
     },
     "execution_count": 8,
     "metadata": {},
     "output_type": "execute_result"
    }
   ],
   "source": [
    "# 猜猜看，這是在計算什麼?\n",
    "23 * (9/5) + 32"
   ]
  },
  {
   "cell_type": "markdown",
   "metadata": {},
   "source": [
    "## (2) 變數: 可以記憶結果 ==> 可以撰寫程式\n",
    "\n",
    "### 2.1 範例: 可使用中文變數名稱"
   ]
  },
  {
   "cell_type": "code",
   "execution_count": 9,
   "metadata": {},
   "outputs": [],
   "source": [
    "華氏溫度 = 23 * (9/5) + 32"
   ]
  },
  {
   "cell_type": "code",
   "execution_count": 10,
   "metadata": {},
   "outputs": [
    {
     "data": {
      "text/plain": [
       "73.4"
      ]
     },
     "execution_count": 10,
     "metadata": {},
     "output_type": "execute_result"
    }
   ],
   "source": [
    "華氏溫度"
   ]
  },
  {
   "cell_type": "markdown",
   "metadata": {},
   "source": [
    "### 2.2 範例: 溫度轉換 (我的第一支程式)"
   ]
  },
  {
   "cell_type": "code",
   "execution_count": 12,
   "metadata": {},
   "outputs": [
    {
     "data": {
      "text/plain": [
       "73.4"
      ]
     },
     "execution_count": 12,
     "metadata": {},
     "output_type": "execute_result"
    }
   ],
   "source": [
    "攝氏溫度 = 23\n",
    "華氏溫度 = 攝氏溫度 * (9/5) + 32\n",
    "\n",
    "華氏溫度"
   ]
  },
  {
   "cell_type": "markdown",
   "metadata": {},
   "source": [
    "### 2.3 應用: 台幣美元匯兌"
   ]
  },
  {
   "cell_type": "code",
   "execution_count": 13,
   "metadata": {},
   "outputs": [
    {
     "data": {
      "text/plain": [
       "2780.0"
      ]
     },
     "execution_count": 13,
     "metadata": {},
     "output_type": "execute_result"
    }
   ],
   "source": [
    "# 美金兌換台幣\n",
    "美元匯率 = 27.80  # 台幣/美元\n",
    "美金 = 100\n",
    "台幣 = 美金 * 美元匯率\n",
    "\n",
    "台幣"
   ]
  },
  {
   "cell_type": "code",
   "execution_count": 14,
   "metadata": {},
   "outputs": [
    {
     "data": {
      "text/plain": [
       "35.97122302158273"
      ]
     },
     "execution_count": 14,
     "metadata": {},
     "output_type": "execute_result"
    }
   ],
   "source": [
    "# 台幣兌換美金\n",
    "台幣 = 1000\n",
    "美金 = 台幣 / 美元匯率\n",
    "\n",
    "美金"
   ]
  },
  {
   "cell_type": "markdown",
   "metadata": {},
   "source": [
    "### 2.4 練習: 魔數\n",
    "\n",
    "說明: 123456789 取前面n個數，然後乘以8，再加上n，看有甚麼驚人的發現?"
   ]
  },
  {
   "cell_type": "code",
   "execution_count": 20,
   "metadata": {},
   "outputs": [
    {
     "data": {
      "text/plain": [
       "987654"
      ]
     },
     "execution_count": 20,
     "metadata": {},
     "output_type": "execute_result"
    }
   ],
   "source": [
    "# 以 n=6為例直接計算\n",
    "123456*8 + 6"
   ]
  },
  {
   "cell_type": "code",
   "execution_count": 15,
   "metadata": {},
   "outputs": [
    {
     "data": {
      "text/plain": [
       "987654"
      ]
     },
     "execution_count": 15,
     "metadata": {},
     "output_type": "execute_result"
    }
   ],
   "source": [
    "# 另一種程式寫法 (比較一般性)\n",
    "a = 123456789\n",
    "n = 6\n",
    "q = a // 10**(9-n) # 取前面n個數\n",
    "b = q*8 + n\n",
    "\n",
    "b"
   ]
  },
  {
   "cell_type": "code",
   "execution_count": 16,
   "metadata": {},
   "outputs": [
    {
     "data": {
      "text/plain": [
       "987654"
      ]
     },
     "execution_count": 16,
     "metadata": {},
     "output_type": "execute_result"
    }
   ],
   "source": [
    "# 進階: 使用函數\n",
    "def 魔數(n):\n",
    "    q = 123456789 // 10**(9-n)\n",
    "    b = q*8 + n\n",
    "    return b\n",
    "\n",
    "魔數(6)"
   ]
  },
  {
   "cell_type": "code",
   "execution_count": 17,
   "metadata": {},
   "outputs": [
    {
     "name": "stdout",
     "output_type": "stream",
     "text": [
      "n=1, 魔數=9\n",
      "n=2, 魔數=98\n",
      "n=3, 魔數=987\n",
      "n=4, 魔數=9876\n",
      "n=5, 魔數=98765\n",
      "n=6, 魔數=987654\n",
      "n=7, 魔數=9876543\n",
      "n=8, 魔數=98765432\n",
      "n=9, 魔數=987654321\n"
     ]
    }
   ],
   "source": [
    "# 先看一下結果:\n",
    "for n in range(1, 10):\n",
    "    print('n=%d, 魔數=%d' % (n, 魔數(n)))"
   ]
  },
  {
   "cell_type": "markdown",
   "metadata": {},
   "source": [
    "## (3) Python 基本資料型態：int, float, str, bool\n",
    "\n",
    "### 3.1 範例:"
   ]
  },
  {
   "cell_type": "code",
   "execution_count": 18,
   "metadata": {},
   "outputs": [
    {
     "data": {
      "text/plain": [
       "170"
      ]
     },
     "execution_count": 18,
     "metadata": {},
     "output_type": "execute_result"
    }
   ],
   "source": [
    "身高 = 170\n",
    "身高"
   ]
  },
  {
   "cell_type": "code",
   "execution_count": 19,
   "metadata": {},
   "outputs": [
    {
     "data": {
      "text/plain": [
       "int"
      ]
     },
     "execution_count": 19,
     "metadata": {},
     "output_type": "execute_result"
    }
   ],
   "source": [
    "type(身高)"
   ]
  },
  {
   "cell_type": "code",
   "execution_count": 20,
   "metadata": {},
   "outputs": [
    {
     "data": {
      "text/plain": [
       "70.5"
      ]
     },
     "execution_count": 20,
     "metadata": {},
     "output_type": "execute_result"
    }
   ],
   "source": [
    "體重 = 70.5\n",
    "體重"
   ]
  },
  {
   "cell_type": "code",
   "execution_count": 21,
   "metadata": {},
   "outputs": [
    {
     "data": {
      "text/plain": [
       "float"
      ]
     },
     "execution_count": 21,
     "metadata": {},
     "output_type": "execute_result"
    }
   ],
   "source": [
    "type(體重)"
   ]
  },
  {
   "cell_type": "code",
   "execution_count": 22,
   "metadata": {},
   "outputs": [
    {
     "data": {
      "text/plain": [
       "'王小華'"
      ]
     },
     "execution_count": 22,
     "metadata": {},
     "output_type": "execute_result"
    }
   ],
   "source": [
    "姓名 = '王小華'\n",
    "姓名"
   ]
  },
  {
   "cell_type": "code",
   "execution_count": 23,
   "metadata": {},
   "outputs": [
    {
     "data": {
      "text/plain": [
       "str"
      ]
     },
     "execution_count": 23,
     "metadata": {},
     "output_type": "execute_result"
    }
   ],
   "source": [
    "type(姓名)"
   ]
  },
  {
   "cell_type": "code",
   "execution_count": 24,
   "metadata": {},
   "outputs": [
    {
     "data": {
      "text/plain": [
       "25"
      ]
     },
     "execution_count": 24,
     "metadata": {},
     "output_type": "execute_result"
    }
   ],
   "source": [
    "年齡 = 25\n",
    "年齡"
   ]
  },
  {
   "cell_type": "markdown",
   "metadata": {},
   "source": [
    "## (4) 基本輸出：print()\n",
    "\n",
    "### 4.1 範例: 基本形式"
   ]
  },
  {
   "cell_type": "code",
   "execution_count": 25,
   "metadata": {},
   "outputs": [
    {
     "name": "stdout",
     "output_type": "stream",
     "text": [
      "王小華 170 70.5\n"
     ]
    }
   ],
   "source": [
    "# 變數(欄位)輸出，以空白隔開\n",
    "print(姓名, 身高, 體重)"
   ]
  },
  {
   "cell_type": "code",
   "execution_count": 26,
   "metadata": {},
   "outputs": [
    {
     "name": "stdout",
     "output_type": "stream",
     "text": [
      "王小華, 170, 70.5.\n"
     ]
    }
   ],
   "source": [
    "# 參數 sep: 欄位分隔字串\n",
    "#      end: 列印完後的字串\n",
    "print(姓名, 身高, 體重, sep=', ', end='.\\n') # '\\n' 表示跳至下一行開始(new line)"
   ]
  },
  {
   "cell_type": "markdown",
   "metadata": {},
   "source": [
    "### 4.2 格式化輸出\n",
    "### 4.2.1 第一代: 老派方式\n",
    "\n",
    "* %s: 字串\n",
    "\n",
    "* %d: 整數\n",
    "\n",
    "* %f: 浮點數"
   ]
  },
  {
   "cell_type": "code",
   "execution_count": 27,
   "metadata": {},
   "outputs": [
    {
     "name": "stdout",
     "output_type": "stream",
     "text": [
      "你好，我是王小華，今年25歲，身高170公分，體重70.500000公斤，請多多指教。\n"
     ]
    }
   ],
   "source": [
    "# 格式化輸出: %s:字串，%d:整數，%f:浮點數(實數，含小數點)\n",
    "print(\"你好，我是%s，今年%d歲，身高%d公分，體重%f公斤，請多多指教。\" % (姓名, 年齡, 身高, 體重))"
   ]
  },
  {
   "cell_type": "markdown",
   "metadata": {},
   "source": [
    "#### 4.2.1.1 範例: 利用欄位寬度，可對齊輸出結果"
   ]
  },
  {
   "cell_type": "code",
   "execution_count": 28,
   "metadata": {},
   "outputs": [
    {
     "name": "stdout",
     "output_type": "stream",
     "text": [
      "姓名   座號  國文  數學  英文\n",
      "林大明   1   100    87    79\n",
      "王曉華   2    74    88   100\n",
      "張偉峰  11    82    65     8\n"
     ]
    }
   ],
   "source": [
    "# 設定欄位寬度(對齊)\n",
    "print(\"姓名   座號  國文  數學  英文\")\n",
    "print(\"%3s  %2d   %3d   %3d   %3d\" % (\"林大明\",  1, 100, 87,  79))\n",
    "print(\"%3s  %2d   %3d   %3d   %3d\" % (\"王曉華\",  2,  74, 88, 100))\n",
    "print(\"%3s  %2d   %3d   %3d   %3d\" % (\"張偉峰\", 11,  82, 65,   8))"
   ]
  },
  {
   "cell_type": "markdown",
   "metadata": {},
   "source": [
    "###  4.2.2 第二代: format()\n",
    "\n",
    "* 將輸出變數放入 format() 裡"
   ]
  },
  {
   "cell_type": "code",
   "execution_count": 29,
   "metadata": {},
   "outputs": [
    {
     "name": "stdout",
     "output_type": "stream",
     "text": [
      "你好，我是王小華，今年25歲，身高170公分，體重70.5公斤，請多多指教。\n"
     ]
    }
   ],
   "source": [
    "# format法: 更簡單的輸出\n",
    "print(\"你好，我是{}，今年{}歲，身高{}公分，體重{}公斤，請多多指教。\".format(姓名, 年齡, 身高, 體重))"
   ]
  },
  {
   "cell_type": "code",
   "execution_count": 31,
   "metadata": {},
   "outputs": [
    {
     "name": "stdout",
     "output_type": "stream",
     "text": [
      "你好，我是王小華 ，今年 25歲，身高 170公分，體重 70.50公斤。\n"
     ]
    }
   ],
   "source": [
    "# format法: 可加上編號(n)與欄位寬度(m)，格式為 {n:m}\n",
    "訊息 = \"你好，我是{0:4}，今年{1:3}歲，身高{2:4}公分，體重{3:6.2f}公斤。\".format(姓名, 年齡, 身高, 體重)\n",
    "print(訊息)"
   ]
  },
  {
   "cell_type": "markdown",
   "metadata": {},
   "source": [
    "### 4.2.3 第三代: f-string\n",
    "\n",
    "* 直接使用變數，更為簡潔"
   ]
  },
  {
   "cell_type": "code",
   "execution_count": 32,
   "metadata": {},
   "outputs": [
    {
     "name": "stdout",
     "output_type": "stream",
     "text": [
      "你好，我是王小華，今年25歲，身高170公分，體重70.5公斤。\n"
     ]
    }
   ],
   "source": [
    "# 第三代全新的 f-string: 直接使用變數名稱\n",
    "訊息 = f\"你好，我是{姓名}，今年{年齡}歲，身高{身高}公分，體重{體重}公斤。\"\n",
    "print(訊息)"
   ]
  },
  {
   "cell_type": "code",
   "execution_count": 33,
   "metadata": {},
   "outputs": [
    {
     "name": "stdout",
     "output_type": "stream",
     "text": [
      "1 美元合台幣 30.0327357 元。\n",
      "1 美元合台幣 30.03 元。\n",
      "1 美元合台幣      30.03 元。\n"
     ]
    }
   ],
   "source": [
    "# 可設定欄寬與小數位數\n",
    "c = 30.0327357\n",
    "print(f\"1 美元合台幣 {c} 元。\")\n",
    "print(f\"1 美元合台幣 {c:.2f} 元。\")   # 四捨五入\n",
    "print(f\"1 美元合台幣 {c:10.2f} 元。\") # 欄寬為10(含小數點與小數部分)"
   ]
  },
  {
   "cell_type": "markdown",
   "metadata": {},
   "source": [
    "## (5) 基本輸入：input()\n",
    "\n",
    "### 5.1 範例:"
   ]
  },
  {
   "cell_type": "code",
   "execution_count": 34,
   "metadata": {},
   "outputs": [
    {
     "name": "stdout",
     "output_type": "stream",
     "text": [
      "尊姓大名? 王大明\n",
      "<class 'str'>\n",
      "王大明，您好!\n"
     ]
    }
   ],
   "source": [
    "姓名 = input(\"尊姓大名? \")\n",
    "print(type(姓名))\n",
    "print(姓名 + \"，您好!\")  # '+':字串連結"
   ]
  },
  {
   "cell_type": "markdown",
   "metadata": {},
   "source": [
    "### 5.2 應用: 再遇溫度轉換，輸入攝氏溫度"
   ]
  },
  {
   "cell_type": "code",
   "execution_count": 35,
   "metadata": {},
   "outputs": [
    {
     "name": "stdout",
     "output_type": "stream",
     "text": [
      "攝氏溫度：23\n",
      "<class 'str'>\n",
      "<class 'float'>\n",
      "華氏溫度為：73.4\n"
     ]
    }
   ],
   "source": [
    "# 將攝氏溫度轉成華氏溫度\n",
    "攝氏溫度 = input(\"攝氏溫度：\")\n",
    "print(type(攝氏溫度))\n",
    "\n",
    "攝氏溫度 = float(攝氏溫度)  # 將資料型別轉換為 float\n",
    "print(type(攝氏溫度))\n",
    "\n",
    "華氏溫度 = 攝氏溫度 * (9 / 5) + 32\n",
    "print(\"華氏溫度為：%.1f\" % (華氏溫度))"
   ]
  },
  {
   "cell_type": "code",
   "execution_count": 36,
   "metadata": {},
   "outputs": [
    {
     "name": "stdout",
     "output_type": "stream",
     "text": [
      "攝氏溫度：23\n",
      "華氏溫度為：73.4\n"
     ]
    }
   ],
   "source": [
    "# 進階: 使用函數(將攝氏溫度轉成華氏溫度)\n",
    "def 攝氏轉華氏(攝氏):\n",
    "    華氏 = 攝氏 * (9 / 5) + 32\n",
    "    return 華氏\n",
    "\n",
    "攝氏 = float(input(\"攝氏溫度：\"))\n",
    "print(\"華氏溫度為：%.1f\" % (攝氏轉華氏(攝氏)))"
   ]
  },
  {
   "cell_type": "markdown",
   "metadata": {},
   "source": [
    "### 5.3 練習: 將華氏溫度轉成攝氏溫度"
   ]
  },
  {
   "cell_type": "markdown",
   "metadata": {},
   "source": [
    "## 6. 資料型別轉換：int(), float(), str()\n",
    "\n",
    "### 6.1 範例:"
   ]
  },
  {
   "cell_type": "code",
   "execution_count": 37,
   "metadata": {},
   "outputs": [
    {
     "name": "stdout",
     "output_type": "stream",
     "text": [
      "<class 'int'>\n",
      "總和 = 46\n"
     ]
    }
   ],
   "source": [
    "a = 12\n",
    "b = 34\n",
    "total = a + b\n",
    "print(type(total))\n",
    "print(\"總和 = \" + str(total)) # 將整數 total 整數(int)型別轉換成字串(str)"
   ]
  },
  {
   "cell_type": "markdown",
   "metadata": {},
   "source": [
    "## (7) 算數運算子：+, -, * /, % (餘數), // (商數), ** (指數)\n",
    "\n",
    "### 7.1 範例:"
   ]
  },
  {
   "cell_type": "code",
   "execution_count": 38,
   "metadata": {},
   "outputs": [
    {
     "name": "stdout",
     "output_type": "stream",
     "text": [
      "17 + 3 = 20\n",
      "17 - 3 = 14\n",
      "17 * 3 = 51\n",
      "17 / 3 = 5.666666666666667\n",
      "17 % 3 = 2\n",
      "17 // 3 = 5\n",
      "7 ** 2 = 49\n"
     ]
    }
   ],
   "source": [
    "print('17 + 3 =', 17 + 3)\n",
    "print('17 - 3 =', 17 - 3)\n",
    "print('17 * 3 =', 17 * 3)\n",
    "print('17 / 3 =', 17 / 3)\n",
    "print('17 % 3 =', 17 % 3)\n",
    "print('17 // 3 =', 17 // 3)\n",
    "print('7 ** 2 =', 7 ** 2)"
   ]
  },
  {
   "cell_type": "code",
   "execution_count": 39,
   "metadata": {},
   "outputs": [
    {
     "name": "stdout",
     "output_type": "stream",
     "text": [
      "請輸入國文成績：95\n",
      "請輸入數學成績：85\n",
      "請輸入英文成績：92\n",
      "成績總分：272 \n",
      "平均成績：90.67\n"
     ]
    }
   ],
   "source": [
    "# 範例: 計算總分與平均成績\n",
    "chi  = input(\"請輸入國文成績：\")\n",
    "math = input(\"請輸入數學成績：\")\n",
    "eng  = input(\"請輸入英文成績：\")\n",
    "total = int(chi) + int(math) + int(eng)  #輸入值需轉換為整數\n",
    "average = total / 3\n",
    "print(\"成績總分：%d \\n平均成績：%5.2f\" % (total, average))"
   ]
  },
  {
   "cell_type": "markdown",
   "metadata": {},
   "source": [
    "## (8)關係運算子：>, <, >=, <=, ==, !=\n",
    "\n",
    "### 8.1 範例:"
   ]
  },
  {
   "cell_type": "code",
   "execution_count": 40,
   "metadata": {},
   "outputs": [
    {
     "name": "stdout",
     "output_type": "stream",
     "text": [
      "5 > 3  ==> True\n",
      "5 < 3  ==> False\n",
      "5 >= 3 ==> True\n",
      "5 <= 3 ==> False\n",
      "5 == 3 ==> False\n",
      "5 != 3 ==> True\n"
     ]
    }
   ],
   "source": [
    "print('5 > 3  ==>', 5 > 3)\n",
    "print('5 < 3  ==>', 5 < 3)\n",
    "print('5 >= 3 ==>', 5 >= 3)\n",
    "print('5 <= 3 ==>', 5 <= 3)\n",
    "print('5 == 3 ==>', 5 == 3)\n",
    "print('5 != 3 ==>', 5 != 3)"
   ]
  },
  {
   "cell_type": "markdown",
   "metadata": {},
   "source": [
    "## (9) 邏輯運算子：and, or, not\n",
    "\n",
    "### 9.1 範例:"
   ]
  },
  {
   "cell_type": "code",
   "execution_count": 41,
   "metadata": {},
   "outputs": [
    {
     "name": "stdout",
     "output_type": "stream",
     "text": [
      "(5 > 3) and (9 < 6) ==> False\n",
      "(5 > 3) or (9 < 6)  ==> True\n",
      "not(5 > 3)          ==> False\n"
     ]
    }
   ],
   "source": [
    "print('(5 > 3) and (9 < 6) ==>', (5 > 3) and (9 < 6))\n",
    "print('(5 > 3) or (9 < 6)  ==>', (5 > 3) or (9 < 6))\n",
    "print('not(5 > 3)          ==>', not(5 > 3))"
   ]
  },
  {
   "cell_type": "markdown",
   "metadata": {},
   "source": [
    "## (10) 複合指定運算子：+=, -=, **=, /=, %=, //=, ****=\n",
    "\n",
    "* a = a + b  簡寫為 ==> a += b\n",
    "\n",
    "* a = a * b  簡寫為 ==> a *= b\n",
    "\n",
    "* 餘類推\n",
    "\n",
    "### 10.1 範例:"
   ]
  },
  {
   "cell_type": "code",
   "execution_count": 68,
   "metadata": {},
   "outputs": [
    {
     "name": "stdout",
     "output_type": "stream",
     "text": [
      "i = 10\n",
      "i += 5\n",
      "i = 15\n"
     ]
    }
   ],
   "source": [
    "i = 10\n",
    "print('i =', i)\n",
    "i += 5  # 意即 i = i + 5\n",
    "print('i += 5')\n",
    "print('i =', i)"
   ]
  },
  {
   "cell_type": "markdown",
   "metadata": {},
   "source": [
    "## (11) 流程控制-1: if-判斷式\n",
    "\n",
    "### if,\n",
    "\n",
    "### if/else,  \n",
    "\n",
    "### if/elif/else"
   ]
  },
  {
   "cell_type": "markdown",
   "metadata": {},
   "source": [
    "### 11.1 範例: 檢查密碼"
   ]
  },
  {
   "cell_type": "code",
   "execution_count": 41,
   "metadata": {},
   "outputs": [
    {
     "name": "stdout",
     "output_type": "stream",
     "text": [
      "請輸入密碼：1234\n",
      "歡迎光臨！\n"
     ]
    }
   ],
   "source": [
    "密碼 = input(\"請輸入密碼：\")\n",
    "if 密碼 == \"1234\":\n",
    "    print(\"歡迎光臨！\")\n",
    "else:\n",
    "    print(\"密碼錯誤！\")"
   ]
  },
  {
   "cell_type": "markdown",
   "metadata": {},
   "source": [
    "### 11.2 範例: 將分數轉成等第"
   ]
  },
  {
   "cell_type": "code",
   "execution_count": 42,
   "metadata": {},
   "outputs": [
    {
     "name": "stdout",
     "output_type": "stream",
     "text": [
      "輸入分數：85\n",
      "甲等\n"
     ]
    }
   ],
   "source": [
    "# 第一版:\n",
    "分數 = int(input(\"輸入分數：\")) # 已將輸入轉成整數\n",
    "if 分數 >= 90:\n",
    "    print(\"優等\")\n",
    "elif 分數 >= 80:\n",
    "    print(\"甲等\")\n",
    "elif 分數 >= 70:\n",
    "    print(\"乙等\")\n",
    "elif 分數 >= 60:\n",
    "    print(\"丙等\")\n",
    "else:\n",
    "     print(\"丁等\")"
   ]
  },
  {
   "cell_type": "code",
   "execution_count": 43,
   "metadata": {},
   "outputs": [
    {
     "name": "stdout",
     "output_type": "stream",
     "text": [
      "輸入分數：75\n",
      "乙等\n"
     ]
    }
   ],
   "source": [
    "# 第二版: 先判斷是否及格\n",
    "分數 = int(input(\"輸入分數：\")) # 已將輸入轉成整數\n",
    "if (分數 >= 60):\n",
    "    if (分數 >= 90):\n",
    "        print(\"優等\")\n",
    "    elif (分數 >= 80):\n",
    "        print(\"甲等\")\n",
    "    elif (分數 >= 70):\n",
    "        print(\"乙等\")\n",
    "    else:\n",
    "        print(\"丙等\")\n",
    "else:\n",
    "     print(\"丁等\")"
   ]
  },
  {
   "cell_type": "markdown",
   "metadata": {},
   "source": [
    "### 11.3 範例: 購物折扣"
   ]
  },
  {
   "cell_type": "code",
   "execution_count": 44,
   "metadata": {},
   "outputs": [
    {
     "name": "stdout",
     "output_type": "stream",
     "text": [
      "請輸入購物金額：55000\n",
      "46750.0 元\n"
     ]
    }
   ],
   "source": [
    "金額 = int(input(\"請輸入購物金額：\")) # 已將輸入轉成整數\n",
    "if (金額 >= 10000):                           # 若金額超過 1 萬，才有折扣\n",
    "    if (金額 >= 100000):                      #   若超過 10 萬，打 8 折\n",
    "        print(str(金額 * 0.8), end=\" 元\\n\")\n",
    "    elif (金額 >= 50000):                     #   若超過 5 萬，打 85 折\n",
    "        print(str(金額 * 0.85), end=\" 元\\n\")\n",
    "    elif (金額 >= 30000):                     #   若超過 3 萬，打 9 折\n",
    "        print(str(金額 * 0.9), end=\" 元\\n\")\n",
    "    else:                                     #   否則，打 95 折\n",
    "        print(str(金額 * 0.95), end=\" 元\\n\")\n",
    "else:\n",
    "    print(str(金額), end=\" 元\\n\")              # 否則，不打折(低於 1 萬)"
   ]
  },
  {
   "cell_type": "markdown",
   "metadata": {},
   "source": [
    "## (12) 資料結構-1: 串列(List): [ ]，元素可更改\n",
    "\n",
    "### 12.1 範例: 串列基本運作"
   ]
  },
  {
   "cell_type": "code",
   "execution_count": 45,
   "metadata": {},
   "outputs": [
    {
     "data": {
      "text/plain": [
       "[1, 2, 3, 4, 5]"
      ]
     },
     "execution_count": 45,
     "metadata": {},
     "output_type": "execute_result"
    }
   ],
   "source": [
    "list1 = [1, 2, 3, 4, 5] #元素皆為整數\n",
    "list1"
   ]
  },
  {
   "cell_type": "code",
   "execution_count": 46,
   "metadata": {},
   "outputs": [
    {
     "data": {
      "text/plain": [
       "['香蕉', '蘋果', '橘子']"
      ]
     },
     "execution_count": 46,
     "metadata": {},
     "output_type": "execute_result"
    }
   ],
   "source": [
    "list2 = [\"香蕉\", \"蘋果\", \"橘子\"] #元素皆為字串\n",
    "list2"
   ]
  },
  {
   "cell_type": "code",
   "execution_count": 47,
   "metadata": {},
   "outputs": [
    {
     "data": {
      "text/plain": [
       "[1, '香蕉', True]"
      ]
     },
     "execution_count": 47,
     "metadata": {},
     "output_type": "execute_result"
    }
   ],
   "source": [
    "list3 = [1, \"香蕉\", True] #包含不同資料型態元素\n",
    "list3"
   ]
  },
  {
   "cell_type": "code",
   "execution_count": 48,
   "metadata": {},
   "outputs": [
    {
     "data": {
      "text/plain": [
       "[1, 2, 3, 4, 5]"
      ]
     },
     "execution_count": 48,
     "metadata": {},
     "output_type": "execute_result"
    }
   ],
   "source": [
    "# 索引值（index）從 0 開始算起\n",
    "list1 = [1, 2, 3, 4, 5]\n",
    "list1"
   ]
  },
  {
   "cell_type": "code",
   "execution_count": 49,
   "metadata": {},
   "outputs": [
    {
     "data": {
      "text/plain": [
       "1"
      ]
     },
     "execution_count": 49,
     "metadata": {},
     "output_type": "execute_result"
    }
   ],
   "source": [
    "# 用索引值來取出串列元素\n",
    "list1[0]"
   ]
  },
  {
   "cell_type": "code",
   "execution_count": 50,
   "metadata": {},
   "outputs": [
    {
     "data": {
      "text/plain": [
       "[2, 3, 4]"
      ]
     },
     "execution_count": 50,
     "metadata": {},
     "output_type": "execute_result"
    }
   ],
   "source": [
    "# 取出索引 >= 1，但 < 4 的元素所形成的新串列\n",
    "list1[1:4]"
   ]
  },
  {
   "cell_type": "code",
   "execution_count": 51,
   "metadata": {},
   "outputs": [
    {
     "data": {
      "text/plain": [
       "5"
      ]
     },
     "execution_count": 51,
     "metadata": {},
     "output_type": "execute_result"
    }
   ],
   "source": [
    "# 索引 -1 表示倒數第一個元素，即 5\n",
    "list1[-1]"
   ]
  },
  {
   "cell_type": "code",
   "execution_count": 52,
   "metadata": {},
   "outputs": [
    {
     "data": {
      "text/plain": [
       "list"
      ]
     },
     "execution_count": 52,
     "metadata": {},
     "output_type": "execute_result"
    }
   ],
   "source": [
    "# 檢視資料型態\n",
    "type(list1)"
   ]
  },
  {
   "cell_type": "code",
   "execution_count": 53,
   "metadata": {},
   "outputs": [
    {
     "data": {
      "text/plain": [
       "5"
      ]
     },
     "execution_count": 53,
     "metadata": {},
     "output_type": "execute_result"
    }
   ],
   "source": [
    "# 長度，即元素個數\n",
    "len(list1)"
   ]
  },
  {
   "cell_type": "markdown",
   "metadata": {},
   "source": [
    "### 12.2 範例: 排序"
   ]
  },
  {
   "cell_type": "code",
   "execution_count": 54,
   "metadata": {},
   "outputs": [
    {
     "data": {
      "text/plain": [
       "[5, 4, 3, 2, 1]"
      ]
     },
     "execution_count": 54,
     "metadata": {},
     "output_type": "execute_result"
    }
   ],
   "source": [
    "# sorted() 排序：預設由小到大\n",
    "list2 = sorted(list1, reverse = True) # 設定由大到小排序\n",
    "list2"
   ]
  },
  {
   "cell_type": "code",
   "execution_count": 55,
   "metadata": {},
   "outputs": [
    {
     "data": {
      "text/plain": [
       "[1, 2, 3, 4, 5]"
      ]
     },
     "execution_count": 55,
     "metadata": {},
     "output_type": "execute_result"
    }
   ],
   "source": [
    "# 回到預設由小到大排序\n",
    "list3 = sorted(list2)\n",
    "list3"
   ]
  },
  {
   "cell_type": "markdown",
   "metadata": {},
   "source": [
    "### 12.3 範例: 串列進階運作"
   ]
  },
  {
   "cell_type": "code",
   "execution_count": 56,
   "metadata": {},
   "outputs": [
    {
     "data": {
      "text/plain": [
       "[]"
      ]
     },
     "execution_count": 56,
     "metadata": {},
     "output_type": "execute_result"
    }
   ],
   "source": [
    "# 建構空串列\n",
    "list2 = []\n",
    "list2"
   ]
  },
  {
   "cell_type": "code",
   "execution_count": 57,
   "metadata": {},
   "outputs": [
    {
     "name": "stdout",
     "output_type": "stream",
     "text": [
      "['香蕉']\n"
     ]
    }
   ],
   "source": [
    "# append(): 將新元素加入於串列尾端\n",
    "list2.append(\"香蕉\")\n",
    "print(list2)"
   ]
  },
  {
   "cell_type": "code",
   "execution_count": 58,
   "metadata": {},
   "outputs": [
    {
     "name": "stdout",
     "output_type": "stream",
     "text": [
      "['香蕉', '蘋果']\n"
     ]
    }
   ],
   "source": [
    "# append(): 將新元素加入於串列尾端\n",
    "list2.append(\"蘋果\")\n",
    "print(list2)"
   ]
  },
  {
   "cell_type": "code",
   "execution_count": 59,
   "metadata": {},
   "outputs": [
    {
     "name": "stdout",
     "output_type": "stream",
     "text": [
      "['香蕉', '橘子', '蘋果']\n"
     ]
    }
   ],
   "source": [
    "# insert(): 將新元素插入於串列的指定位置\n",
    "list2.insert(1, \"橘子\")\n",
    "print(list2)"
   ]
  },
  {
   "cell_type": "code",
   "execution_count": 60,
   "metadata": {},
   "outputs": [
    {
     "name": "stdout",
     "output_type": "stream",
     "text": [
      "蘋果\n",
      "['香蕉', '橘子']\n"
     ]
    }
   ],
   "source": [
    "# pop(): 從串列尾端取出元素\n",
    "a = list2.pop()\n",
    "print(a)\n",
    "print(list2)"
   ]
  },
  {
   "cell_type": "code",
   "execution_count": 61,
   "metadata": {},
   "outputs": [
    {
     "name": "stdout",
     "output_type": "stream",
     "text": [
      "['橘子']\n"
     ]
    }
   ],
   "source": [
    "# remove(): 從串列移除指定元素\n",
    "list2.remove('香蕉')\n",
    "print(list2)"
   ]
  },
  {
   "cell_type": "markdown",
   "metadata": {},
   "source": [
    "### 12.4 練習: 字串(=字元串列)"
   ]
  },
  {
   "cell_type": "code",
   "execution_count": 64,
   "metadata": {},
   "outputs": [],
   "source": [
    "egg = \"ABCDEFGH\""
   ]
  },
  {
   "cell_type": "code",
   "execution_count": 65,
   "metadata": {},
   "outputs": [
    {
     "data": {
      "text/plain": [
       "'ABCDEFGH'"
      ]
     },
     "execution_count": 65,
     "metadata": {},
     "output_type": "execute_result"
    }
   ],
   "source": [
    "egg"
   ]
  },
  {
   "cell_type": "code",
   "execution_count": 66,
   "metadata": {},
   "outputs": [
    {
     "data": {
      "text/plain": [
       "['A', 'B', 'C', 'D', 'E', 'F', 'G', 'H']"
      ]
     },
     "execution_count": 66,
     "metadata": {},
     "output_type": "execute_result"
    }
   ],
   "source": [
    "ham = list(egg)\n",
    "ham"
   ]
  },
  {
   "cell_type": "code",
   "execution_count": 67,
   "metadata": {},
   "outputs": [
    {
     "data": {
      "text/plain": [
       "'ABCDEF'"
      ]
     },
     "execution_count": 67,
     "metadata": {},
     "output_type": "execute_result"
    }
   ],
   "source": [
    "egg[:-2]"
   ]
  },
  {
   "cell_type": "code",
   "execution_count": 68,
   "metadata": {},
   "outputs": [
    {
     "data": {
      "text/plain": [
       "'ACEG'"
      ]
     },
     "execution_count": 68,
     "metadata": {},
     "output_type": "execute_result"
    }
   ],
   "source": [
    "egg[::2]"
   ]
  },
  {
   "cell_type": "code",
   "execution_count": 69,
   "metadata": {},
   "outputs": [
    {
     "data": {
      "text/plain": [
       "'HGFEDCBA'"
      ]
     },
     "execution_count": 69,
     "metadata": {},
     "output_type": "execute_result"
    }
   ],
   "source": [
    "# 反轉\n",
    "egg[::-1]"
   ]
  },
  {
   "cell_type": "markdown",
   "metadata": {},
   "source": [
    "### 12.5 練習: 判斷回文(palindrome)\n",
    "\n",
    "例如: \"abcba\""
   ]
  },
  {
   "cell_type": "code",
   "execution_count": 70,
   "metadata": {},
   "outputs": [],
   "source": [
    "# 先定義相關函數\n",
    "def reverse(s):\n",
    "    return s[::-1]\n",
    "\n",
    "def isPalindrome(s):\n",
    "    return s == reverse(s)"
   ]
  },
  {
   "cell_type": "code",
   "execution_count": 71,
   "metadata": {},
   "outputs": [
    {
     "data": {
      "text/plain": [
       "False"
      ]
     },
     "execution_count": 71,
     "metadata": {},
     "output_type": "execute_result"
    }
   ],
   "source": [
    "isPalindrome('Python')"
   ]
  },
  {
   "cell_type": "code",
   "execution_count": 72,
   "metadata": {},
   "outputs": [
    {
     "data": {
      "text/plain": [
       "True"
      ]
     },
     "execution_count": 72,
     "metadata": {},
     "output_type": "execute_result"
    }
   ],
   "source": [
    "isPalindrome('花蓮噴水池水噴蓮花')"
   ]
  },
  {
   "cell_type": "code",
   "execution_count": 73,
   "metadata": {},
   "outputs": [
    {
     "name": "stdout",
     "output_type": "stream",
     "text": [
      "請輸入一個英文單字或中文句子: 上海自來水來自海上\n",
      "這是回文!\n"
     ]
    }
   ],
   "source": [
    "# 上海自來水來自海上\n",
    "s = input(\"請輸入一個英文單字或中文句子: \")\n",
    "\n",
    "if isPalindrome(s):\n",
    "    print(\"這是回文!\")\n",
    "else:\n",
    "    print(\"這不是回文!\")"
   ]
  },
  {
   "cell_type": "markdown",
   "metadata": {},
   "source": [
    "### 12.6 範例: 串列的應用 ==> 繪圖的座標"
   ]
  },
  {
   "cell_type": "code",
   "execution_count": 75,
   "metadata": {},
   "outputs": [
    {
     "data": {
      "text/plain": [
       "array([ 1.,  2.,  3.,  4.,  5.,  6.,  7.,  8.,  9., 10.])"
      ]
     },
     "execution_count": 75,
     "metadata": {},
     "output_type": "execute_result"
    }
   ],
   "source": [
    "%matplotlib inline\n",
    "import numpy as np\n",
    "import matplotlib.pyplot as plt\n",
    "\n",
    "np.linspace(1, 10, 10)"
   ]
  },
  {
   "cell_type": "code",
   "execution_count": 76,
   "metadata": {},
   "outputs": [
    {
     "data": {
      "text/plain": [
       "[<matplotlib.lines.Line2D at 0x1ffe206eeb0>]"
      ]
     },
     "execution_count": 76,
     "metadata": {},
     "output_type": "execute_result"
    },
    {
     "data": {
      "image/png": "[encoded data removed]",
      "text/plain": [
       "<Figure size 432x288 with 1 Axes>"
      ]
     },
     "metadata": {
      "needs_background": "light"
     },
     "output_type": "display_data"
    }
   ],
   "source": [
    "# 繪製三角函數 sin() 的波形\n",
    "# \\pi<tab> 即可形成希臘字母 'π'\n",
    "\n",
    "π = np.pi\n",
    "θ = np.linspace(0, 6*π, 1000) # 串列 (list)\n",
    "y = np.sin(θ)                 # 串列 (list)\n",
    "plt.plot(θ, y)"
   ]
  },
  {
   "cell_type": "code",
   "execution_count": 144,
   "metadata": {},
   "outputs": [
    {
     "data": {
      "image/png": "[encoded data removed]",
      "text/plain": [
       "<Figure size 432x288 with 1 Axes>"
      ]
     },
     "metadata": {},
     "output_type": "display_data"
    }
   ],
   "source": [
    "# 繪製台北市每月平均最高、最低溫\n",
    "import numpy as np\n",
    "import matplotlib.pyplot as plt\n",
    "plt.style.use('seaborn-whitegrid')\n",
    "# 設定字型為: 微軟正黑體\n",
    "plt.rcParams[\"font.sans-serif\"]='Microsoft JhengHei' \n",
    "\n",
    "month = np.arange(1, 13)\n",
    "high = [19, 20, 22, 26, 29, 32, 34, 33, 31, 27, 24, 21] # 串列\n",
    "low  = [13, 14, 15, 19, 22, 25, 26, 26, 24, 22, 18, 15] # 串列\n",
    "plt.plot(month, high, '-ro',  label='最高溫')\n",
    "plt.plot(month, low,  '--bs', label='最低溫')\n",
    "plt.legend(frameon=True)\n",
    "plt.xlabel('月份')\n",
    "plt.ylabel('溫度')\n",
    "plt.xlim(0, 13)\n",
    "plt.xticks(month)\n",
    "plt.title('台北市每個月平均最高溫與最低溫圖');"
   ]
  },
  {
   "cell_type": "markdown",
   "metadata": {},
   "source": [
    "### 範例: 建構英中字典"
   ]
  },
  {
   "cell_type": "markdown",
   "metadata": {},
   "source": [
    "## (13) 流程控制-2: for-迴圈\n",
    "\n",
    "### 13.1 範例: 逐一取出串列元素"
   ]
  },
  {
   "cell_type": "code",
   "execution_count": 77,
   "metadata": {},
   "outputs": [
    {
     "name": "stdout",
     "output_type": "stream",
     "text": [
      "香蕉, 蘋果, 橘子, "
     ]
    }
   ],
   "source": [
    "list1 = [\"香蕉\", \"蘋果\", \"橘子\"]\n",
    "for s in list1:       # 逐一取出 list 元素\n",
    "    print(s, end=\", \") "
   ]
  },
  {
   "cell_type": "markdown",
   "metadata": {},
   "source": [
    "### 13.2 range() 函數：\n",
    "\n",
    "(1) range(n) ==> 0, 1, ..., n-1\n",
    "\n",
    "(2) range(a, b) ==> a, a+1, ..., b-1\n",
    "\n",
    "(3) range(a, b, c) ==> a, a+c, a+2c, ..., (< b)"
   ]
  },
  {
   "cell_type": "code",
   "execution_count": 78,
   "metadata": {},
   "outputs": [
    {
     "data": {
      "text/plain": [
       "range(0, 10)"
      ]
     },
     "execution_count": 78,
     "metadata": {},
     "output_type": "execute_result"
    }
   ],
   "source": [
    "range(10)"
   ]
  },
  {
   "cell_type": "code",
   "execution_count": 79,
   "metadata": {},
   "outputs": [
    {
     "data": {
      "text/plain": [
       "[0, 1, 2, 3, 4, 5, 6, 7, 8, 9]"
      ]
     },
     "execution_count": 79,
     "metadata": {},
     "output_type": "execute_result"
    }
   ],
   "source": [
    "list(range(10))"
   ]
  },
  {
   "cell_type": "code",
   "execution_count": 80,
   "metadata": {},
   "outputs": [
    {
     "data": {
      "text/plain": [
       "[2, 3, 4, 5, 6, 7, 8, 9]"
      ]
     },
     "execution_count": 80,
     "metadata": {},
     "output_type": "execute_result"
    }
   ],
   "source": [
    "list(range(2, 10))"
   ]
  },
  {
   "cell_type": "code",
   "execution_count": 81,
   "metadata": {},
   "outputs": [
    {
     "data": {
      "text/plain": [
       "[1, 3, 5, 7, 9]"
      ]
     },
     "execution_count": 81,
     "metadata": {},
     "output_type": "execute_result"
    }
   ],
   "source": [
    "list(range(1, 10, 2))"
   ]
  },
  {
   "cell_type": "markdown",
   "metadata": {},
   "source": [
    "### 13.3 範例: 計算累加"
   ]
  },
  {
   "cell_type": "code",
   "execution_count": 82,
   "metadata": {},
   "outputs": [
    {
     "name": "stdout",
     "output_type": "stream",
     "text": [
      "i = 1, total = 1\n",
      "i = 2, total = 3\n",
      "i = 3, total = 6\n",
      "i = 4, total = 10\n",
      "i = 5, total = 15\n",
      "i = 6, total = 21\n",
      "i = 7, total = 28\n",
      "i = 8, total = 36\n",
      "i = 9, total = 45\n",
      "i = 10, total = 55\n",
      "total = 55\n"
     ]
    }
   ],
   "source": [
    "# total = 1 + 2 + ... + 10\n",
    "total = 0\n",
    "for i in range(1, 11):\n",
    "    total += i\n",
    "    print(\"i = %d, total = %d\" % (i, total))\n",
    "print(\"total = %d\" % total) "
   ]
  },
  {
   "cell_type": "markdown",
   "metadata": {},
   "source": [
    "### 13.4 練習: 九九乘法表"
   ]
  },
  {
   "cell_type": "code",
   "execution_count": 83,
   "metadata": {},
   "outputs": [
    {
     "name": "stdout",
     "output_type": "stream",
     "text": [
      "1*1= 1   2*1= 2   3*1= 3   4*1= 4   5*1= 5   6*1= 6   7*1= 7   8*1= 8   9*1= 9   \n",
      "1*2= 2   2*2= 4   3*2= 6   4*2= 8   5*2=10   6*2=12   7*2=14   8*2=16   9*2=18   \n",
      "1*3= 3   2*3= 6   3*3= 9   4*3=12   5*3=15   6*3=18   7*3=21   8*3=24   9*3=27   \n",
      "1*4= 4   2*4= 8   3*4=12   4*4=16   5*4=20   6*4=24   7*4=28   8*4=32   9*4=36   \n",
      "1*5= 5   2*5=10   3*5=15   4*5=20   5*5=25   6*5=30   7*5=35   8*5=40   9*5=45   \n",
      "1*6= 6   2*6=12   3*6=18   4*6=24   5*6=30   6*6=36   7*6=42   8*6=48   9*6=54   \n",
      "1*7= 7   2*7=14   3*7=21   4*7=28   5*7=35   6*7=42   7*7=49   8*7=56   9*7=63   \n",
      "1*8= 8   2*8=16   3*8=24   4*8=32   5*8=40   6*8=48   7*8=56   8*8=64   9*8=72   \n",
      "1*9= 9   2*9=18   3*9=27   4*9=36   5*9=45   6*9=54   7*9=63   8*9=72   9*9=81   \n"
     ]
    }
   ],
   "source": [
    "# 九九乘法表\n",
    "for i in range(1, 10):\n",
    "    for j in range(1, 10):\n",
    "        product = i * j\n",
    "        print(\"%d*%d=%2d   \" % (j, i, product), end=\"\")\n",
    "    print() "
   ]
  },
  {
   "cell_type": "markdown",
   "metadata": {},
   "source": [
    "## (14) 流程控制-3: while-迴圈\n",
    "\n",
    "### 14.1 範例: 累加"
   ]
  },
  {
   "cell_type": "code",
   "execution_count": 84,
   "metadata": {},
   "outputs": [
    {
     "name": "stdout",
     "output_type": "stream",
     "text": [
      "n = 1, total = 1\n",
      "n = 2, total = 3\n",
      "n = 3, total = 6\n",
      "n = 4, total = 10\n",
      "n = 5, total = 15\n",
      "n = 6, total = 21\n",
      "n = 7, total = 28\n",
      "n = 8, total = 36\n",
      "n = 9, total = 45\n",
      "n = 10, total = 55\n",
      "total = 55\n"
     ]
    }
   ],
   "source": [
    "# total = 1 + 2 + ... + 10\n",
    "total = n = 0\n",
    "while (n < 10):\n",
    "    n += 1\n",
    "    total += n\n",
    "    print('n = %d, total = %d' % (n, total))\n",
    "print('total =', total)"
   ]
  },
  {
   "cell_type": "markdown",
   "metadata": {},
   "source": [
    "### 14.2 練習: 猜數字遊戲"
   ]
  },
  {
   "cell_type": "code",
   "execution_count": 85,
   "metadata": {},
   "outputs": [],
   "source": [
    "from random import randint # 亂數產生器\n",
    "\n",
    "def game():\n",
    "    ans = randint(1, 100) # 自動產生一亂數，介於 1 到 100 之間\n",
    "    guess = -1\n",
    "    while guess != ans:\n",
    "        guess = int(input(\"請輸入一個數字: \"))\n",
    "        if guess > ans:\n",
    "            print(\"太大了!\")\n",
    "        elif guess < ans:\n",
    "            print(\"太小了!\")\n",
    "        else:\n",
    "            print(\"太神了!\")"
   ]
  },
  {
   "cell_type": "code",
   "execution_count": 87,
   "metadata": {},
   "outputs": [
    {
     "name": "stdout",
     "output_type": "stream",
     "text": [
      "請輸入一個數字: 50\n",
      "太大了!\n",
      "請輸入一個數字: 25\n",
      "太大了!\n",
      "請輸入一個數字: 12\n",
      "太大了!\n",
      "請輸入一個數字: 6\n",
      "太小了!\n",
      "請輸入一個數字: 9\n",
      "太小了!\n",
      "請輸入一個數字: 10\n",
      "太小了!\n",
      "請輸入一個數字: 11\n",
      "太神了!\n"
     ]
    }
   ],
   "source": [
    "# 只玩一次\n",
    "game()"
   ]
  },
  {
   "cell_type": "code",
   "execution_count": 88,
   "metadata": {},
   "outputs": [
    {
     "name": "stdout",
     "output_type": "stream",
     "text": [
      "請輸入一個數字: 50\n",
      "太大了!\n",
      "請輸入一個數字: 25\n",
      "太小了!\n",
      "請輸入一個數字: 37\n",
      "太小了!\n",
      "請輸入一個數字: 42\n",
      "太小了!\n",
      "請輸入一個數字: 45\n",
      "太神了!\n",
      "讚!\n",
      "再玩一次? no\n"
     ]
    }
   ],
   "source": [
    "# 進階: 直到不想玩為止\n",
    "play = True\n",
    "\n",
    "while play:\n",
    "    game()\n",
    "    print(\"讚!\")\n",
    "    again = input(\"再玩一次? \")\n",
    "    if again == 'no':\n",
    "        play = False"
   ]
  },
  {
   "cell_type": "markdown",
   "metadata": {},
   "source": [
    "### 14.3 範例: 簡易聊天機器人\n",
    "\n",
    "可參考金門大學陳鍾誠教授的網站: \n",
    "http://ccckmit.wikidot.com/code:eliza"
   ]
  },
  {
   "cell_type": "code",
   "execution_count": 90,
   "metadata": {},
   "outputs": [
    {
     "name": "stdout",
     "output_type": "stream",
     "text": [
      "歡迎進來聊天!\n",
      "\n",
      "> 我覺得很難過\n",
      "我能理解\n",
      "\n",
      "> Python 都不太會寫\n",
      "我能理解\n",
      "\n",
      "> 一起學的朋友也不教我\n",
      "可否多告訴我一些呢?\n",
      "\n",
      "> 我該怎麼辦\n",
      "這樣喔! 我知道!\n",
      "\n",
      "> Bye\n",
      "祝福你!\n"
     ]
    }
   ],
   "source": [
    "import random\n",
    "\n",
    "回答 = ['我了解', '我能理解', '請繼續說下去', '可以說的更詳細一點嗎?', '這樣喔! 我知道!', \n",
    "      '然後呢? 發生甚麼事?', '再來呢? 可以多說一些嗎?', '接下來呢?', '可以多告訴我一些嗎?',\n",
    "      '多談談有關你的事，好嗎?', '想多聊一聊嗎?', '可否多告訴我一些呢?']\n",
    "\n",
    "n = len(回答)\n",
    "print(\"歡迎進來聊天!\")\n",
    "print()\n",
    "\n",
    "while True:\n",
    "    message = input(\"> \")\n",
    "    if message == \"Bye\":\n",
    "        print('祝福你!')\n",
    "        break\n",
    "    print(回答[random.randint(0, n-1)])\n",
    "    print()"
   ]
  },
  {
   "cell_type": "code",
   "execution_count": null,
   "metadata": {},
   "outputs": [],
   "source": [
    "# 顏文字卡: https://facemood.grtimed.com/\n",
    "'(•‾⌣‾•)'"
   ]
  },
  {
   "cell_type": "markdown",
   "metadata": {},
   "source": [
    "## (15) 資料結構-2: 元組(Tuple) ( )，元素不能變更（常數）\n",
    "\n",
    "### 15.1 範例:"
   ]
  },
  {
   "cell_type": "code",
   "execution_count": 91,
   "metadata": {},
   "outputs": [
    {
     "data": {
      "text/plain": [
       "(1, 2, 3, 4, 5)"
      ]
     },
     "execution_count": 91,
     "metadata": {},
     "output_type": "execute_result"
    }
   ],
   "source": [
    "tuple1 = (1, 2, 3, 4, 5) #元素皆為整數\n",
    "tuple1"
   ]
  },
  {
   "cell_type": "code",
   "execution_count": 92,
   "metadata": {},
   "outputs": [
    {
     "data": {
      "text/plain": [
       "(1, '香蕉', True)"
      ]
     },
     "execution_count": 92,
     "metadata": {},
     "output_type": "execute_result"
    }
   ],
   "source": [
    "tuple2 = (1, \"香蕉\", True) #包含不同資料型態元素\n",
    "tuple2"
   ]
  },
  {
   "cell_type": "code",
   "execution_count": 93,
   "metadata": {},
   "outputs": [
    {
     "name": "stdout",
     "output_type": "stream",
     "text": [
      "蘋果\n"
     ]
    }
   ],
   "source": [
    "tuple3 = (\"香蕉\", \"蘋果\", \"橘子\")\n",
    "print(tuple3[1]) #蘋果\n",
    "\n",
    "# 若嘗試修改元素的值，會出現錯誤\n",
    "#tuple3[1] = \"芭樂\""
   ]
  },
  {
   "cell_type": "markdown",
   "metadata": {},
   "source": [
    "## (16) 資料結構-3: 字典(Dictionary)：{ key:value, ...}\n",
    "\n",
    "### 16.1 範例: 建構英中字典"
   ]
  },
  {
   "cell_type": "code",
   "execution_count": 94,
   "metadata": {},
   "outputs": [
    {
     "data": {
      "text/plain": [
       "{'banana': '香蕉', 'apple': '蘋果', 'orange': '橘子'}"
      ]
     },
     "execution_count": 94,
     "metadata": {},
     "output_type": "execute_result"
    }
   ],
   "source": [
    "# 建構初始字典\n",
    "英中字典 = {\"banana\":\"香蕉\", \"apple\":\"蘋果\", \"orange\":\"橘子\"}\n",
    "英中字典"
   ]
  },
  {
   "cell_type": "code",
   "execution_count": 95,
   "metadata": {},
   "outputs": [
    {
     "data": {
      "text/plain": [
       "'蘋果'"
      ]
     },
     "execution_count": 95,
     "metadata": {},
     "output_type": "execute_result"
    }
   ],
   "source": [
    "# 查詢英文單字翻譯\n",
    "英中字典[\"apple\"]"
   ]
  },
  {
   "cell_type": "code",
   "execution_count": 96,
   "metadata": {},
   "outputs": [
    {
     "data": {
      "text/plain": [
       "{'banana': '香蕉', 'apple': '蘋果', 'orange': '橘子', 'pear': '水梨'}"
      ]
     },
     "execution_count": 96,
     "metadata": {},
     "output_type": "execute_result"
    }
   ],
   "source": [
    "# 新增單字\n",
    "英中字典[\"pear\"] = \"水梨\"\n",
    "英中字典"
   ]
  },
  {
   "cell_type": "code",
   "execution_count": 97,
   "metadata": {},
   "outputs": [
    {
     "data": {
      "text/plain": [
       "['banana', 'apple', 'orange', 'pear']"
      ]
     },
     "execution_count": 97,
     "metadata": {},
     "output_type": "execute_result"
    }
   ],
   "source": [
    "# 取出英文單字\n",
    "英文單字 = list(英中字典.keys())\n",
    "英文單字"
   ]
  },
  {
   "cell_type": "code",
   "execution_count": 98,
   "metadata": {},
   "outputs": [
    {
     "data": {
      "text/plain": [
       "['香蕉', '蘋果', '橘子', '水梨']"
      ]
     },
     "execution_count": 98,
     "metadata": {},
     "output_type": "execute_result"
    }
   ],
   "source": [
    "# 取出單字翻譯\n",
    "中文翻譯 = list(英中字典.values())\n",
    "中文翻譯"
   ]
  },
  {
   "cell_type": "code",
   "execution_count": 99,
   "metadata": {},
   "outputs": [
    {
     "data": {
      "text/plain": [
       "[('banana', '香蕉'), ('apple', '蘋果'), ('orange', '橘子'), ('pear', '水梨')]"
      ]
     },
     "execution_count": 99,
     "metadata": {},
     "output_type": "execute_result"
    }
   ],
   "source": [
    "# 取出英中對照\n",
    "中英對照 = list(英中字典.items())\n",
    "中英對照"
   ]
  },
  {
   "cell_type": "code",
   "execution_count": 109,
   "metadata": {},
   "outputs": [
    {
     "data": {
      "text/plain": [
       "{'香蕉': 'banana', '蘋果': 'apple', '橘子': 'orange', '水梨': 'pear'}"
      ]
     },
     "execution_count": 109,
     "metadata": {},
     "output_type": "execute_result"
    }
   ],
   "source": [
    "# 從\"英中字典\" 建構\"中英字典\"\n",
    "中英字典 = {中文:英文 for 英文,中文 in 英中字典.items()}\n",
    "中英字典"
   ]
  },
  {
   "cell_type": "markdown",
   "metadata": {},
   "source": [
    "### 16.2 範例: 計算 GPA (Grade Point Average)"
   ]
  },
  {
   "cell_type": "code",
   "execution_count": 100,
   "metadata": {},
   "outputs": [
    {
     "name": "stdout",
     "output_type": "stream",
     "text": [
      "90 A 4\n",
      "85 B 3\n",
      "83 B 3\n",
      "78 C 2\n",
      "92 A 4\n",
      "80 B 3\n",
      "GPA = 3.1666666666666665\n"
     ]
    }
   ],
   "source": [
    "GPA = {'A':4, 'B':3, 'C':2, 'D':1, 'F':0}\n",
    "各科分數 = [90, 85, 83, 78, 92, 80]\n",
    "\n",
    "def Grade(score):\n",
    "    if score >= 90:\n",
    "        grade = 'A'\n",
    "    elif score >= 80:\n",
    "        grade = 'B'\n",
    "    elif score >= 70:\n",
    "        grade = 'C'\n",
    "    elif score >= 60:\n",
    "        grade = 'D'\n",
    "    else:\n",
    "        grade = 'F'\n",
    "    return grade\n",
    "\n",
    "def 計算GPA(各科成績):\n",
    "    total = 0\n",
    "    for 分數 in 各科成績:\n",
    "        grade = Grade(分數)\n",
    "        print(分數, grade, GPA[grade])\n",
    "        total = total + GPA[grade]\n",
    "    gpa = total / len(各科成績)\n",
    "    return gpa\n",
    "\n",
    "GPA = 計算GPA(各科分數)\n",
    "print(\"GPA =\", GPA)"
   ]
  },
  {
   "cell_type": "markdown",
   "metadata": {},
   "source": [
    "### 16.3 練習: 水果價格"
   ]
  },
  {
   "cell_type": "code",
   "execution_count": 101,
   "metadata": {},
   "outputs": [
    {
     "name": "stdout",
     "output_type": "stream",
     "text": [
      "{'香蕉': 20, '蘋果': 50, '橘子': 30}\n"
     ]
    }
   ],
   "source": [
    "# Exqmple:\n",
    "dict1 = {\"香蕉\":20, \"蘋果\":50, \"橘子\":30}\n",
    "print(dict1)"
   ]
  },
  {
   "cell_type": "code",
   "execution_count": 102,
   "metadata": {},
   "outputs": [
    {
     "name": "stdout",
     "output_type": "stream",
     "text": [
      "50\n"
     ]
    }
   ],
   "source": [
    "# 以\"蘋果\"為 key，取出其 value: 50\n",
    "print(dict1[\"蘋果\"])"
   ]
  },
  {
   "cell_type": "code",
   "execution_count": 103,
   "metadata": {},
   "outputs": [
    {
     "name": "stdout",
     "output_type": "stream",
     "text": [
      "{'香蕉': 20, '蘋果': 50, '橘子': 60}\n"
     ]
    }
   ],
   "source": [
    "# 更改橘子的值為 60\n",
    "dict1[\"橘子\"] = 60\n",
    "print(dict1)"
   ]
  },
  {
   "cell_type": "code",
   "execution_count": 104,
   "metadata": {},
   "outputs": [
    {
     "name": "stdout",
     "output_type": "stream",
     "text": [
      "60\n"
     ]
    }
   ],
   "source": [
    "print(dict1[\"橘子\"]) # 60 "
   ]
  },
  {
   "cell_type": "code",
   "execution_count": 105,
   "metadata": {},
   "outputs": [
    {
     "name": "stdout",
     "output_type": "stream",
     "text": [
      "{'香蕉': 20, '蘋果': 50, '橘子': 60, '鳳梨': 40}\n"
     ]
    }
   ],
   "source": [
    "# 新增鳳梨的值為 40\n",
    "dict1[\"鳳梨\"] = 40\n",
    "print(dict1)"
   ]
  },
  {
   "cell_type": "markdown",
   "metadata": {},
   "source": [
    "### 16.4 練習: 學生分數"
   ]
  },
  {
   "cell_type": "code",
   "execution_count": 106,
   "metadata": {},
   "outputs": [
    {
     "name": "stdout",
     "output_type": "stream",
     "text": [
      "dict_keys(['林小明', '曾山水', '鄭美麗'])\n"
     ]
    }
   ],
   "source": [
    "# Example:\n",
    "dict1 = {\"林小明\":85, \"曾山水\":93, \"鄭美麗\":67}\n",
    "print(dict1.keys())"
   ]
  },
  {
   "cell_type": "code",
   "execution_count": 107,
   "metadata": {},
   "outputs": [
    {
     "name": "stdout",
     "output_type": "stream",
     "text": [
      "['林小明', '曾山水', '鄭美麗']\n"
     ]
    }
   ],
   "source": [
    "# 取出 key 值\n",
    "listkey = list(dict1.keys())\n",
    "print(listkey)"
   ]
  },
  {
   "cell_type": "code",
   "execution_count": 108,
   "metadata": {},
   "outputs": [
    {
     "name": "stdout",
     "output_type": "stream",
     "text": [
      "[85, 93, 67]\n"
     ]
    }
   ],
   "source": [
    "# 取出 value 值\n",
    "listvalue = list(dict1.values())\n",
    "print(listvalue)"
   ]
  },
  {
   "cell_type": "code",
   "execution_count": 109,
   "metadata": {},
   "outputs": [
    {
     "name": "stdout",
     "output_type": "stream",
     "text": [
      "林小明 的成績為 85 分\n",
      "曾山水 的成績為 93 分\n",
      "鄭美麗 的成績為 67 分\n"
     ]
    }
   ],
   "source": [
    "for i in range(len(listkey)):\n",
    "    print(\"%s 的成績為 %d 分\" % (listkey[i], listvalue[i]))"
   ]
  },
  {
   "cell_type": "code",
   "execution_count": 110,
   "metadata": {},
   "outputs": [
    {
     "data": {
      "text/plain": [
       "{'林小明': 85, '曾山水': 93, '鄭美麗': 67}"
      ]
     },
     "execution_count": 110,
     "metadata": {},
     "output_type": "execute_result"
    }
   ],
   "source": [
    "# Exqmple:\n",
    "dict1 = {\"林小明\":85, \"曾山水\":93, \"鄭美麗\":67}\n",
    "dict1"
   ]
  },
  {
   "cell_type": "code",
   "execution_count": 111,
   "metadata": {},
   "outputs": [
    {
     "name": "stdout",
     "output_type": "stream",
     "text": [
      "dict_items([('林小明', 85), ('曾山水', 93), ('鄭美麗', 67)])\n"
     ]
    }
   ],
   "source": [
    "# 取出 item: (key, value) pair\n",
    "listitem = dict1.items()\n",
    "print(listitem)"
   ]
  },
  {
   "cell_type": "code",
   "execution_count": 112,
   "metadata": {},
   "outputs": [
    {
     "name": "stdout",
     "output_type": "stream",
     "text": [
      "林小明 的成績為 85 分\n",
      "曾山水 的成績為 93 分\n",
      "鄭美麗 的成績為 67 分\n"
     ]
    }
   ],
   "source": [
    "for name, score in listitem:\n",
    "    print(\"%s 的成績為 %d 分\" % (name, score))"
   ]
  },
  {
   "cell_type": "markdown",
   "metadata": {},
   "source": [
    "### 16.5 練習: 逐一建立學生分數"
   ]
  },
  {
   "cell_type": "code",
   "execution_count": 113,
   "metadata": {},
   "outputs": [
    {
     "data": {
      "text/plain": [
       "{}"
      ]
     },
     "execution_count": 113,
     "metadata": {},
     "output_type": "execute_result"
    }
   ],
   "source": [
    "# Exqmple:\n",
    "dict1 = {}\n",
    "dict1"
   ]
  },
  {
   "cell_type": "code",
   "execution_count": 114,
   "metadata": {},
   "outputs": [
    {
     "data": {
      "text/plain": [
       "{'a': 90}"
      ]
     },
     "execution_count": 114,
     "metadata": {},
     "output_type": "execute_result"
    }
   ],
   "source": [
    "# 新增 key-value pair\n",
    "dict1[\"a\"] = 90 \n",
    "dict1"
   ]
  },
  {
   "cell_type": "code",
   "execution_count": 115,
   "metadata": {},
   "outputs": [
    {
     "name": "stdout",
     "output_type": "stream",
     "text": [
      "{'a': 90, 'b': 100}\n"
     ]
    }
   ],
   "source": [
    "# 新增 key-value pair\n",
    "dict1[\"b\"] = 100\n",
    "print(dict1)"
   ]
  },
  {
   "cell_type": "code",
   "execution_count": 116,
   "metadata": {},
   "outputs": [
    {
     "name": "stdout",
     "output_type": "stream",
     "text": [
      "dict_items([('a', 90), ('b', 100)])\n"
     ]
    }
   ],
   "source": [
    "# 取出 item: (key, value) pair\n",
    "listitems = dict1.items()\n",
    "print(listitems)"
   ]
  },
  {
   "cell_type": "code",
   "execution_count": 88,
   "metadata": {},
   "outputs": [
    {
     "name": "stdout",
     "output_type": "stream",
     "text": [
      "a score is 90\n",
      "b score is 100\n"
     ]
    }
   ],
   "source": [
    "for key, value in listitems:\n",
    "    print(\"%s score is %d\" % (key, value))"
   ]
  },
  {
   "cell_type": "markdown",
   "metadata": {},
   "source": [
    "## (17) 函數(Function)-1：自定函數\n",
    "\n",
    "### 17.1 範例: 歡迎光臨"
   ]
  },
  {
   "cell_type": "code",
   "execution_count": 117,
   "metadata": {},
   "outputs": [
    {
     "name": "stdout",
     "output_type": "stream",
     "text": [
      "歡迎光臨!\n"
     ]
    }
   ],
   "source": [
    "# Exqmple:\n",
    "def SayHello():\n",
    "    print(\"歡迎光臨!\")\n",
    "\n",
    "SayHello()"
   ]
  },
  {
   "cell_type": "code",
   "execution_count": 118,
   "metadata": {},
   "outputs": [
    {
     "name": "stdout",
     "output_type": "stream",
     "text": [
      "歡迎光臨!\n",
      "歡迎光臨!\n",
      "歡迎光臨!\n"
     ]
    }
   ],
   "source": [
    "SayHello()\n",
    "SayHello()\n",
    "SayHello()"
   ]
  },
  {
   "cell_type": "markdown",
   "metadata": {},
   "source": [
    "### 17.2 範例: 計算面積"
   ]
  },
  {
   "cell_type": "code",
   "execution_count": 119,
   "metadata": {},
   "outputs": [
    {
     "name": "stdout",
     "output_type": "stream",
     "text": [
      "Area 20\n"
     ]
    }
   ],
   "source": [
    "# Exqmple:\n",
    "def GetArea(width, height):\n",
    "    area = width * height\n",
    "    return area\n",
    "\n",
    "print(\"Area\", GetArea(5, 4))"
   ]
  },
  {
   "cell_type": "markdown",
   "metadata": {},
   "source": [
    "### 17.3 範例: 重逢\"溫度轉換\" (複習)"
   ]
  },
  {
   "cell_type": "code",
   "execution_count": 120,
   "metadata": {},
   "outputs": [
    {
     "name": "stdout",
     "output_type": "stream",
     "text": [
      "請輸入攝氏溫度：23\n",
      "華氏溫度為： 73.4 度\n"
     ]
    }
   ],
   "source": [
    "# Exqmple:\n",
    "def ctof(c):\n",
    "    f = c * 1.8 + 32\n",
    "    return f\n",
    "\n",
    "inputc = float(input(\"請輸入攝氏溫度：\"))\n",
    "print(\"華氏溫度為：%5.1f 度\" % ctof(inputc))"
   ]
  },
  {
   "cell_type": "markdown",
   "metadata": {},
   "source": [
    "## (18)函數(Function)-2：內建函數"
   ]
  },
  {
   "cell_type": "code",
   "execution_count": 121,
   "metadata": {},
   "outputs": [
    {
     "name": "stdout",
     "output_type": "stream",
     "text": [
      "共有 6 個數\n",
      "最大數為：9\n",
      "最小數為：1\n",
      "總和為：31\n"
     ]
    }
   ],
   "source": [
    "list1 = [2, 5, 6, 8, 1, 9]\n",
    "\n",
    "print(\"共有 %d 個數\" % len(list1))\n",
    "print(\"最大數為：%d\" % max(list1))\n",
    "print(\"最小數為：%d\" % min(list1))\n",
    "print(\"總和為：%d\"   % sum(list1))"
   ]
  },
  {
   "cell_type": "code",
   "execution_count": 122,
   "metadata": {},
   "outputs": [
    {
     "name": "stdout",
     "output_type": "stream",
     "text": [
      "由大到小排序為：[9, 8, 6, 5, 2, 1]\n"
     ]
    }
   ],
   "source": [
    "print(\"由大到小排序為：{}\".format(sorted(list1, reverse=True)))"
   ]
  },
  {
   "cell_type": "markdown",
   "metadata": {},
   "source": [
    "## (19) import 用法"
   ]
  },
  {
   "cell_type": "code",
   "execution_count": 123,
   "metadata": {},
   "outputs": [
    {
     "data": {
      "text/plain": [
       "0.7277955543186959"
      ]
     },
     "execution_count": 123,
     "metadata": {},
     "output_type": "execute_result"
    }
   ],
   "source": [
    "# (1) import 套件\n",
    "import random  # 隨機亂數套件\n",
    "\n",
    "random.seed()\n",
    "random.random()"
   ]
  },
  {
   "cell_type": "code",
   "execution_count": 124,
   "metadata": {},
   "outputs": [
    {
     "data": {
      "text/plain": [
       "0.3618879157456364"
      ]
     },
     "execution_count": 124,
     "metadata": {},
     "output_type": "execute_result"
    }
   ],
   "source": [
    "# (2) from 套件 import *\n",
    "from random import *\n",
    "\n",
    "seed()\n",
    "random()"
   ]
  },
  {
   "cell_type": "code",
   "execution_count": 97,
   "metadata": {},
   "outputs": [
    {
     "data": {
      "text/plain": [
       "0.8181038007179238"
      ]
     },
     "execution_count": 97,
     "metadata": {},
     "output_type": "execute_result"
    }
   ],
   "source": [
    "# (3) from 套件 import 函數\n",
    "from random import seed, random, choice\n",
    "\n",
    "seed()\n",
    "random()"
   ]
  },
  {
   "cell_type": "code",
   "execution_count": 125,
   "metadata": {},
   "outputs": [
    {
     "data": {
      "text/plain": [
       "0.8588350846313473"
      ]
     },
     "execution_count": 125,
     "metadata": {},
     "output_type": "execute_result"
    }
   ],
   "source": [
    "# (4) import 套件 as 別名\n",
    "import random as r\n",
    "\n",
    "r.seed()\n",
    "r.random()"
   ]
  },
  {
   "cell_type": "markdown",
   "metadata": {},
   "source": [
    "## (20) Jupyter Notebook 超炫互動功能\n",
    "\n",
    "引自 政大蔡炎龍教授的\"少年Py的大冒險\"一書\n",
    "可呈現簡單的視窗元件(如滑桿、文字框、選項等)\n",
    "\n",
    "### 20.1 範例: 列印輸入值"
   ]
  },
  {
   "cell_type": "code",
   "execution_count": 126,
   "metadata": {},
   "outputs": [],
   "source": [
    "from ipywidgets import interact\n",
    "\n",
    "# 自訂 f(x) 函數，輸出為 x 本身\n",
    "def f(x):\n",
    "    print(x)"
   ]
  },
  {
   "cell_type": "code",
   "execution_count": 127,
   "metadata": {},
   "outputs": [
    {
     "data": {
      "application/vnd.jupyter.widget-view+json": {
       "model_id": "3eb18c331a0343aa990442ac87dfcbe2",
       "version_major": 2,
       "version_minor": 0
      },
      "text/plain": [
       "interactive(children=(IntSlider(value=3, description='x', max=9, min=-3), Output()), _dom_classes=('widget-int…"
      ]
     },
     "metadata": {},
     "output_type": "display_data"
    },
    {
     "data": {
      "text/plain": [
       "<function __main__.f(x)>"
      ]
     },
     "execution_count": 127,
     "metadata": {},
     "output_type": "execute_result"
    }
   ],
   "source": [
    "interact(f, x=3) # x值為整數"
   ]
  },
  {
   "cell_type": "code",
   "execution_count": 128,
   "metadata": {},
   "outputs": [
    {
     "data": {
      "application/vnd.jupyter.widget-view+json": {
       "model_id": "3d903fb0b1214751993db7e48c791c7d",
       "version_major": 2,
       "version_minor": 0
      },
      "text/plain": [
       "interactive(children=(FloatSlider(value=3.0, description='x', max=9.0, min=-3.0), Output()), _dom_classes=('wi…"
      ]
     },
     "metadata": {},
     "output_type": "display_data"
    },
    {
     "data": {
      "text/plain": [
       "<function __main__.f(x)>"
      ]
     },
     "execution_count": 128,
     "metadata": {},
     "output_type": "execute_result"
    }
   ],
   "source": [
    "interact(f, x=3.0) # x值為實數(浮點數)"
   ]
  },
  {
   "cell_type": "code",
   "execution_count": 129,
   "metadata": {},
   "outputs": [
    {
     "data": {
      "application/vnd.jupyter.widget-view+json": {
       "model_id": "4e08cc10b28d497cb334b4c9440b9480",
       "version_major": 2,
       "version_minor": 0
      },
      "text/plain": [
       "interactive(children=(IntSlider(value=5, description='x', max=10, min=1), Output()), _dom_classes=('widget-int…"
      ]
     },
     "metadata": {},
     "output_type": "display_data"
    },
    {
     "data": {
      "text/plain": [
       "<function __main__.f(x)>"
      ]
     },
     "execution_count": 129,
     "metadata": {},
     "output_type": "execute_result"
    }
   ],
   "source": [
    "interact(f, x=(1,10)) # x為範圍"
   ]
  },
  {
   "cell_type": "code",
   "execution_count": 130,
   "metadata": {},
   "outputs": [
    {
     "data": {
      "application/vnd.jupyter.widget-view+json": {
       "model_id": "bf67406c85a94fdd885b3edb694433d2",
       "version_major": 2,
       "version_minor": 0
      },
      "text/plain": [
       "interactive(children=(Text(value='輸入你的姓名', description='x'), Output()), _dom_classes=('widget-interact',))"
      ]
     },
     "metadata": {},
     "output_type": "display_data"
    },
    {
     "data": {
      "text/plain": [
       "<function __main__.f(x)>"
      ]
     },
     "execution_count": 130,
     "metadata": {},
     "output_type": "execute_result"
    }
   ],
   "source": [
    "interact(f, x='輸入你的姓名') # x可為字串"
   ]
  },
  {
   "cell_type": "code",
   "execution_count": 131,
   "metadata": {},
   "outputs": [
    {
     "data": {
      "application/vnd.jupyter.widget-view+json": {
       "model_id": "1a86d141f133413286dc4ad02505d0bb",
       "version_major": 2,
       "version_minor": 0
      },
      "text/plain": [
       "interactive(children=(Dropdown(description='x', options=('台北', '台中', '高雄'), value='台北'), Output()), _dom_class…"
      ]
     },
     "metadata": {},
     "output_type": "display_data"
    },
    {
     "data": {
      "text/plain": [
       "<function __main__.f(x)>"
      ]
     },
     "execution_count": 131,
     "metadata": {},
     "output_type": "execute_result"
    }
   ],
   "source": [
    "interact(f, x = ['台北', '台中', '高雄']) # x可為串列"
   ]
  },
  {
   "cell_type": "code",
   "execution_count": 132,
   "metadata": {},
   "outputs": [
    {
     "data": {
      "application/vnd.jupyter.widget-view+json": {
       "model_id": "386514818f0f4278b25026c9c6148b55",
       "version_major": 2,
       "version_minor": 0
      },
      "text/plain": [
       "interactive(children=(Dropdown(description='x', options={'台北': 1, '台中': 2, '高雄': 3}, value=1), Output()), _dom…"
      ]
     },
     "metadata": {},
     "output_type": "display_data"
    },
    {
     "data": {
      "text/plain": [
       "<function __main__.f(x)>"
      ]
     },
     "execution_count": 132,
     "metadata": {},
     "output_type": "execute_result"
    }
   ],
   "source": [
    "interact(f, x = {'台北':1, '台中':2, '高雄':3}) # x可為字典"
   ]
  },
  {
   "cell_type": "markdown",
   "metadata": {},
   "source": [
    "### 20.2 範例: 移動文字"
   ]
  },
  {
   "cell_type": "code",
   "execution_count": 133,
   "metadata": {},
   "outputs": [],
   "source": [
    "# 自訂 move(n) 函數，輸出前面有 n 個空白\n",
    "def move(n = 1):\n",
    "    print(\" \"*n + \"(*'o'*)\")"
   ]
  },
  {
   "cell_type": "code",
   "execution_count": 134,
   "metadata": {},
   "outputs": [
    {
     "name": "stdout",
     "output_type": "stream",
     "text": [
      "     (*'o'*)\n"
     ]
    }
   ],
   "source": [
    "move(5)"
   ]
  },
  {
   "cell_type": "code",
   "execution_count": 135,
   "metadata": {},
   "outputs": [
    {
     "data": {
      "application/vnd.jupyter.widget-view+json": {
       "model_id": "3f691c095a5d41cf8aea274e13c1af0f",
       "version_major": 2,
       "version_minor": 0
      },
      "text/plain": [
       "interactive(children=(IntSlider(value=1, description='n', max=80, min=1), Output()), _dom_classes=('widget-int…"
      ]
     },
     "metadata": {},
     "output_type": "display_data"
    },
    {
     "data": {
      "text/plain": [
       "<function __main__.move(n=1)>"
      ]
     },
     "execution_count": 135,
     "metadata": {},
     "output_type": "execute_result"
    }
   ],
   "source": [
    "interact(move, n=(1,80))"
   ]
  },
  {
   "cell_type": "markdown",
   "metadata": {},
   "source": [
    "### 20.3 範例: 改變參數，重繪圖形"
   ]
  },
  {
   "cell_type": "code",
   "execution_count": 136,
   "metadata": {},
   "outputs": [],
   "source": [
    "import numpy as np\n",
    "import matplotlib.pyplot as plt\n",
    "\n",
    "x = np.linspace(-10, 10, 500)\n",
    "\n",
    "def myplot(n = 1):\n",
    "    y = np.sinc(n*x)\n",
    "    plt.plot(x, y)"
   ]
  },
  {
   "cell_type": "code",
   "execution_count": 137,
   "metadata": {},
   "outputs": [
    {
     "data": {
      "application/vnd.jupyter.widget-view+json": {
       "model_id": "43bd5655c25a49738ff8503db3b592d9",
       "version_major": 2,
       "version_minor": 0
      },
      "text/plain": [
       "interactive(children=(FloatSlider(value=1.0, description='n', max=10.0, min=1.0), Output()), _dom_classes=('wi…"
      ]
     },
     "metadata": {},
     "output_type": "display_data"
    },
    {
     "data": {
      "text/plain": [
       "<function __main__.myplot(n=1)>"
      ]
     },
     "execution_count": 137,
     "metadata": {},
     "output_type": "execute_result"
    }
   ],
   "source": [
    "# 可使用滑鼠與鍵盤(左、右鍵)移動藍點，以改變其值\n",
    "interact(myplot, n = (1., 10.))"
   ]
  },
  {
   "cell_type": "markdown",
   "metadata": {},
   "source": [
    "### 20.4 範例: 計算BMI"
   ]
  },
  {
   "cell_type": "code",
   "execution_count": 138,
   "metadata": {},
   "outputs": [],
   "source": [
    "def BMI(height=170, weight=70):\n",
    "    height /= 100\n",
    "    bmi = weight / height**2\n",
    "    print('bmi =', bmi)"
   ]
  },
  {
   "cell_type": "code",
   "execution_count": 139,
   "metadata": {},
   "outputs": [
    {
     "data": {
      "application/vnd.jupyter.widget-view+json": {
       "model_id": "c8eb9e147a734fd4b7a7da9febe036a0",
       "version_major": 2,
       "version_minor": 0
      },
      "text/plain": [
       "interactive(children=(IntSlider(value=170, description='height', max=200, min=100), IntSlider(value=70, descri…"
      ]
     },
     "metadata": {},
     "output_type": "display_data"
    },
    {
     "data": {
      "text/plain": [
       "<function __main__.BMI(height=170, weight=70)>"
      ]
     },
     "execution_count": 139,
     "metadata": {},
     "output_type": "execute_result"
    }
   ],
   "source": [
    "interact(BMI, height=(100, 200), weight=(50, 100))"
   ]
  },
  {
   "cell_type": "code",
   "execution_count": 140,
   "metadata": {},
   "outputs": [],
   "source": [
    "# 進階: 回饋\n",
    "def BMI1(身高=170, 體重=70):\n",
    "    身高 /= 100\n",
    "    bmi = 體重 / 身高**2\n",
    "    print('bmi = %.2f' % (bmi))\n",
    "    if bmi < 18.5:\n",
    "        print(\"體重過輕\")\n",
    "    elif bmi < 24:\n",
    "        print(\"正常範圍\")\n",
    "    elif bmi < 27:\n",
    "        print(\"過重\")\n",
    "    elif bmi < 30:\n",
    "        print(\"輕度肥胖\")\n",
    "    elif bmi < 35:\n",
    "        print(\"中度肥胖\")\n",
    "    else:\n",
    "        print(\"重度肥胖\")"
   ]
  },
  {
   "cell_type": "code",
   "execution_count": 141,
   "metadata": {},
   "outputs": [
    {
     "data": {
      "application/vnd.jupyter.widget-view+json": {
       "model_id": "fbbd3179ad5f48c1b78535cf667fe144",
       "version_major": 2,
       "version_minor": 0
      },
      "text/plain": [
       "interactive(children=(IntSlider(value=170, description='身高', max=200, min=50), IntSlider(value=70, description…"
      ]
     },
     "metadata": {},
     "output_type": "display_data"
    }
   ],
   "source": [
    "interact(BMI1, 身高=(50, 200), 體重=(30, 150));"
   ]
  },
  {
   "cell_type": "markdown",
   "metadata": {},
   "source": [
    "## (21) 專題: 簡易聊天機器人\n",
    "\n",
    "陳鍾誠網站 http://ccckmit.wikidot.com/code:eliza"
   ]
  },
  {
   "cell_type": "code",
   "execution_count": 143,
   "metadata": {},
   "outputs": [
    {
     "name": "stdout",
     "output_type": "stream",
     "text": [
      "您好，我的朋友! 有心事嗎?\n",
      " >> 我不開心\n",
      "為何不\n",
      " >> 和同學吵架\n",
      "我了解\n",
      " >> 心情很惡劣\n",
      "我了解\n",
      " >> 你認識他多久了呢\n",
      "我了解\n",
      " >> no\n",
      "再見!\n"
     ]
    }
   ],
   "source": [
    "規則庫 = {'謝謝':'不客氣!', \n",
    "         '對不起':'別說抱歉!',\n",
    "         '不':'為何不'}\n",
    "\n",
    "關鍵字 = 規則庫.keys()\n",
    "\n",
    "詢問 = \"您好，我的朋友! 有心事嗎?\" + \"\\n >> \"\n",
    "while True:\n",
    "    回答 = input(詢問)\n",
    "    value = ''\n",
    "    if 回答 == 'no':\n",
    "        print(\"再見!\")\n",
    "        break\n",
    "    for key in 關鍵字:\n",
    "        if key in 回答:\n",
    "            value = 規則庫[key]\n",
    "            break\n",
    "    if value == '':\n",
    "        value = '我了解'\n",
    "    詢問 = value + \"\\n >> \""
   ]
  },
  {
   "cell_type": "code",
   "execution_count": null,
   "metadata": {},
   "outputs": [],
   "source": []
  }
 ],
 "metadata": {
  "kernelspec": {
   "display_name": "Python 3 (ipykernel)",
   "language": "python",
   "name": "python3"
  },
  "language_info": {
   "codemirror_mode": {
    "name": "ipython",
    "version": 3
   },
   "file_extension": ".py",
   "mimetype": "text/x-python",
   "name": "python",
   "nbconvert_exporter": "python",
   "pygments_lexer": "ipython3",
   "version": "3.10.5"
  }
 },
 "nbformat": 4,
 "nbformat_minor": 2
}
